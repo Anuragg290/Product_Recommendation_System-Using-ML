{
 "cells": [
  {
   "cell_type": "code",
   "execution_count": 52,
   "id": "886f6215",
   "metadata": {},
   "outputs": [
    {
     "data": {
      "application/javascript": [
       "\n",
       "        if (window._pyforest_update_imports_cell) { window._pyforest_update_imports_cell('import pandas as pd\\nimport matplotlib.pyplot as plt'); }\n",
       "    "
      ],
      "text/plain": [
       "<IPython.core.display.Javascript object>"
      ]
     },
     "metadata": {},
     "output_type": "display_data"
    },
    {
     "data": {
      "text/html": [
       "<div>\n",
       "<style scoped>\n",
       "    .dataframe tbody tr th:only-of-type {\n",
       "        vertical-align: middle;\n",
       "    }\n",
       "\n",
       "    .dataframe tbody tr th {\n",
       "        vertical-align: top;\n",
       "    }\n",
       "\n",
       "    .dataframe thead th {\n",
       "        text-align: right;\n",
       "    }\n",
       "</style>\n",
       "<table border=\"1\" class=\"dataframe\">\n",
       "  <thead>\n",
       "    <tr style=\"text-align: right;\">\n",
       "      <th></th>\n",
       "      <th>product_id</th>\n",
       "      <th>product_name</th>\n",
       "      <th>category</th>\n",
       "      <th>discounted_price</th>\n",
       "      <th>actual_price</th>\n",
       "      <th>discount_percentage</th>\n",
       "      <th>rating</th>\n",
       "      <th>rating_count</th>\n",
       "      <th>about_product</th>\n",
       "      <th>user_id</th>\n",
       "      <th>user_name</th>\n",
       "      <th>review_id</th>\n",
       "      <th>review_title</th>\n",
       "      <th>review_content</th>\n",
       "      <th>img_link</th>\n",
       "      <th>product_link</th>\n",
       "    </tr>\n",
       "  </thead>\n",
       "  <tbody>\n",
       "    <tr>\n",
       "      <th>0</th>\n",
       "      <td>B07JW9H4J1</td>\n",
       "      <td>Wayona Nylon Braided USB to Lightning Fast Cha...</td>\n",
       "      <td>Computers&amp;Accessories|Accessories&amp;Peripherals|...</td>\n",
       "      <td>₹399</td>\n",
       "      <td>₹1,099</td>\n",
       "      <td>64%</td>\n",
       "      <td>4.2</td>\n",
       "      <td>24,269</td>\n",
       "      <td>High Compatibility : Compatible With iPhone 12...</td>\n",
       "      <td>AG3D6O4STAQKAY2UVGEUV46KN35Q,AHMY5CWJMMK5BJRBB...</td>\n",
       "      <td>Manav,Adarsh gupta,Sundeep,S.Sayeed Ahmed,jasp...</td>\n",
       "      <td>R3HXWT0LRP0NMF,R2AJM3LFTLZHFO,R6AQJGUP6P86,R1K...</td>\n",
       "      <td>Satisfied,Charging is really fast,Value for mo...</td>\n",
       "      <td>Looks durable Charging is fine tooNo complains...</td>\n",
       "      <td>https://m.media-amazon.com/images/W/WEBP_40237...</td>\n",
       "      <td>https://www.amazon.in/Wayona-Braided-WN3LG1-Sy...</td>\n",
       "    </tr>\n",
       "    <tr>\n",
       "      <th>1</th>\n",
       "      <td>B098NS6PVG</td>\n",
       "      <td>Ambrane Unbreakable 60W / 3A Fast Charging 1.5...</td>\n",
       "      <td>Computers&amp;Accessories|Accessories&amp;Peripherals|...</td>\n",
       "      <td>₹199</td>\n",
       "      <td>₹349</td>\n",
       "      <td>43%</td>\n",
       "      <td>4.0</td>\n",
       "      <td>43,994</td>\n",
       "      <td>Compatible with all Type C enabled devices, be...</td>\n",
       "      <td>AECPFYFQVRUWC3KGNLJIOREFP5LQ,AGYYVPDD7YG7FYNBX...</td>\n",
       "      <td>ArdKn,Nirbhay kumar,Sagar Viswanathan,Asp,Plac...</td>\n",
       "      <td>RGIQEG07R9HS2,R1SMWZQ86XIN8U,R2J3Y1WL29GWDE,RY...</td>\n",
       "      <td>A Good Braided Cable for Your Type C Device,Go...</td>\n",
       "      <td>I ordered this cable to connect my phone to An...</td>\n",
       "      <td>https://m.media-amazon.com/images/W/WEBP_40237...</td>\n",
       "      <td>https://www.amazon.in/Ambrane-Unbreakable-Char...</td>\n",
       "    </tr>\n",
       "    <tr>\n",
       "      <th>2</th>\n",
       "      <td>B096MSW6CT</td>\n",
       "      <td>Sounce Fast Phone Charging Cable &amp; Data Sync U...</td>\n",
       "      <td>Computers&amp;Accessories|Accessories&amp;Peripherals|...</td>\n",
       "      <td>₹199</td>\n",
       "      <td>₹1,899</td>\n",
       "      <td>90%</td>\n",
       "      <td>3.9</td>\n",
       "      <td>7,928</td>\n",
       "      <td>【 Fast Charger&amp; Data Sync】-With built-in safet...</td>\n",
       "      <td>AGU3BBQ2V2DDAMOAKGFAWDDQ6QHA,AESFLDV2PT363T2AQ...</td>\n",
       "      <td>Kunal,Himanshu,viswanath,sai niharka,saqib mal...</td>\n",
       "      <td>R3J3EQQ9TZI5ZJ,R3E7WBGK7ID0KV,RWU79XKQ6I1QF,R2...</td>\n",
       "      <td>Good speed for earlier versions,Good Product,W...</td>\n",
       "      <td>Not quite durable and sturdy,https://m.media-a...</td>\n",
       "      <td>https://m.media-amazon.com/images/W/WEBP_40237...</td>\n",
       "      <td>https://www.amazon.in/Sounce-iPhone-Charging-C...</td>\n",
       "    </tr>\n",
       "    <tr>\n",
       "      <th>3</th>\n",
       "      <td>B08HDJ86NZ</td>\n",
       "      <td>boAt Deuce USB 300 2 in 1 Type-C &amp; Micro USB S...</td>\n",
       "      <td>Computers&amp;Accessories|Accessories&amp;Peripherals|...</td>\n",
       "      <td>₹329</td>\n",
       "      <td>₹699</td>\n",
       "      <td>53%</td>\n",
       "      <td>4.2</td>\n",
       "      <td>94,363</td>\n",
       "      <td>The boAt Deuce USB 300 2 in 1 cable is compati...</td>\n",
       "      <td>AEWAZDZZJLQUYVOVGBEUKSLXHQ5A,AG5HTSFRRE6NL3M5S...</td>\n",
       "      <td>Omkar dhale,JD,HEMALATHA,Ajwadh a.,amar singh ...</td>\n",
       "      <td>R3EEUZKKK9J36I,R3HJVYCLYOY554,REDECAZ7AMPQC,R1...</td>\n",
       "      <td>Good product,Good one,Nice,Really nice product...</td>\n",
       "      <td>Good product,long wire,Charges good,Nice,I bou...</td>\n",
       "      <td>https://m.media-amazon.com/images/I/41V5FtEWPk...</td>\n",
       "      <td>https://www.amazon.in/Deuce-300-Resistant-Tang...</td>\n",
       "    </tr>\n",
       "    <tr>\n",
       "      <th>4</th>\n",
       "      <td>B08CF3B7N1</td>\n",
       "      <td>Portronics Konnect L 1.2M Fast Charging 3A 8 P...</td>\n",
       "      <td>Computers&amp;Accessories|Accessories&amp;Peripherals|...</td>\n",
       "      <td>₹154</td>\n",
       "      <td>₹399</td>\n",
       "      <td>61%</td>\n",
       "      <td>4.2</td>\n",
       "      <td>16,905</td>\n",
       "      <td>[CHARGE &amp; SYNC FUNCTION]- This cable comes wit...</td>\n",
       "      <td>AE3Q6KSUK5P75D5HFYHCRAOLODSA,AFUGIFH5ZAFXRDSZH...</td>\n",
       "      <td>rahuls6099,Swasat Borah,Ajay Wadke,Pranali,RVK...</td>\n",
       "      <td>R1BP4L2HH9TFUP,R16PVJEXKV6QZS,R2UPDB81N66T4P,R...</td>\n",
       "      <td>As good as original,Decent,Good one for second...</td>\n",
       "      <td>Bought this instead of original apple, does th...</td>\n",
       "      <td>https://m.media-amazon.com/images/W/WEBP_40237...</td>\n",
       "      <td>https://www.amazon.in/Portronics-Konnect-POR-1...</td>\n",
       "    </tr>\n",
       "  </tbody>\n",
       "</table>\n",
       "</div>"
      ],
      "text/plain": [
       "   product_id                                       product_name  \\\n",
       "0  B07JW9H4J1  Wayona Nylon Braided USB to Lightning Fast Cha...   \n",
       "1  B098NS6PVG  Ambrane Unbreakable 60W / 3A Fast Charging 1.5...   \n",
       "2  B096MSW6CT  Sounce Fast Phone Charging Cable & Data Sync U...   \n",
       "3  B08HDJ86NZ  boAt Deuce USB 300 2 in 1 Type-C & Micro USB S...   \n",
       "4  B08CF3B7N1  Portronics Konnect L 1.2M Fast Charging 3A 8 P...   \n",
       "\n",
       "                                            category discounted_price  \\\n",
       "0  Computers&Accessories|Accessories&Peripherals|...             ₹399   \n",
       "1  Computers&Accessories|Accessories&Peripherals|...             ₹199   \n",
       "2  Computers&Accessories|Accessories&Peripherals|...             ₹199   \n",
       "3  Computers&Accessories|Accessories&Peripherals|...             ₹329   \n",
       "4  Computers&Accessories|Accessories&Peripherals|...             ₹154   \n",
       "\n",
       "  actual_price discount_percentage rating rating_count  \\\n",
       "0       ₹1,099                 64%    4.2       24,269   \n",
       "1         ₹349                 43%    4.0       43,994   \n",
       "2       ₹1,899                 90%    3.9        7,928   \n",
       "3         ₹699                 53%    4.2       94,363   \n",
       "4         ₹399                 61%    4.2       16,905   \n",
       "\n",
       "                                       about_product  \\\n",
       "0  High Compatibility : Compatible With iPhone 12...   \n",
       "1  Compatible with all Type C enabled devices, be...   \n",
       "2  【 Fast Charger& Data Sync】-With built-in safet...   \n",
       "3  The boAt Deuce USB 300 2 in 1 cable is compati...   \n",
       "4  [CHARGE & SYNC FUNCTION]- This cable comes wit...   \n",
       "\n",
       "                                             user_id  \\\n",
       "0  AG3D6O4STAQKAY2UVGEUV46KN35Q,AHMY5CWJMMK5BJRBB...   \n",
       "1  AECPFYFQVRUWC3KGNLJIOREFP5LQ,AGYYVPDD7YG7FYNBX...   \n",
       "2  AGU3BBQ2V2DDAMOAKGFAWDDQ6QHA,AESFLDV2PT363T2AQ...   \n",
       "3  AEWAZDZZJLQUYVOVGBEUKSLXHQ5A,AG5HTSFRRE6NL3M5S...   \n",
       "4  AE3Q6KSUK5P75D5HFYHCRAOLODSA,AFUGIFH5ZAFXRDSZH...   \n",
       "\n",
       "                                           user_name  \\\n",
       "0  Manav,Adarsh gupta,Sundeep,S.Sayeed Ahmed,jasp...   \n",
       "1  ArdKn,Nirbhay kumar,Sagar Viswanathan,Asp,Plac...   \n",
       "2  Kunal,Himanshu,viswanath,sai niharka,saqib mal...   \n",
       "3  Omkar dhale,JD,HEMALATHA,Ajwadh a.,amar singh ...   \n",
       "4  rahuls6099,Swasat Borah,Ajay Wadke,Pranali,RVK...   \n",
       "\n",
       "                                           review_id  \\\n",
       "0  R3HXWT0LRP0NMF,R2AJM3LFTLZHFO,R6AQJGUP6P86,R1K...   \n",
       "1  RGIQEG07R9HS2,R1SMWZQ86XIN8U,R2J3Y1WL29GWDE,RY...   \n",
       "2  R3J3EQQ9TZI5ZJ,R3E7WBGK7ID0KV,RWU79XKQ6I1QF,R2...   \n",
       "3  R3EEUZKKK9J36I,R3HJVYCLYOY554,REDECAZ7AMPQC,R1...   \n",
       "4  R1BP4L2HH9TFUP,R16PVJEXKV6QZS,R2UPDB81N66T4P,R...   \n",
       "\n",
       "                                        review_title  \\\n",
       "0  Satisfied,Charging is really fast,Value for mo...   \n",
       "1  A Good Braided Cable for Your Type C Device,Go...   \n",
       "2  Good speed for earlier versions,Good Product,W...   \n",
       "3  Good product,Good one,Nice,Really nice product...   \n",
       "4  As good as original,Decent,Good one for second...   \n",
       "\n",
       "                                      review_content  \\\n",
       "0  Looks durable Charging is fine tooNo complains...   \n",
       "1  I ordered this cable to connect my phone to An...   \n",
       "2  Not quite durable and sturdy,https://m.media-a...   \n",
       "3  Good product,long wire,Charges good,Nice,I bou...   \n",
       "4  Bought this instead of original apple, does th...   \n",
       "\n",
       "                                            img_link  \\\n",
       "0  https://m.media-amazon.com/images/W/WEBP_40237...   \n",
       "1  https://m.media-amazon.com/images/W/WEBP_40237...   \n",
       "2  https://m.media-amazon.com/images/W/WEBP_40237...   \n",
       "3  https://m.media-amazon.com/images/I/41V5FtEWPk...   \n",
       "4  https://m.media-amazon.com/images/W/WEBP_40237...   \n",
       "\n",
       "                                        product_link  \n",
       "0  https://www.amazon.in/Wayona-Braided-WN3LG1-Sy...  \n",
       "1  https://www.amazon.in/Ambrane-Unbreakable-Char...  \n",
       "2  https://www.amazon.in/Sounce-iPhone-Charging-C...  \n",
       "3  https://www.amazon.in/Deuce-300-Resistant-Tang...  \n",
       "4  https://www.amazon.in/Portronics-Konnect-POR-1...  "
      ]
     },
     "execution_count": 52,
     "metadata": {},
     "output_type": "execute_result"
    }
   ],
   "source": [
    "data=pd.read_csv(\"E:\\\\Datasets\\\\amazon.csv\")\n",
    "data.head()"
   ]
  },
  {
   "cell_type": "code",
   "execution_count": 53,
   "id": "b9243c0e",
   "metadata": {},
   "outputs": [
    {
     "data": {
      "text/html": [
       "<div>\n",
       "<style scoped>\n",
       "    .dataframe tbody tr th:only-of-type {\n",
       "        vertical-align: middle;\n",
       "    }\n",
       "\n",
       "    .dataframe tbody tr th {\n",
       "        vertical-align: top;\n",
       "    }\n",
       "\n",
       "    .dataframe thead th {\n",
       "        text-align: right;\n",
       "    }\n",
       "</style>\n",
       "<table border=\"1\" class=\"dataframe\">\n",
       "  <thead>\n",
       "    <tr style=\"text-align: right;\">\n",
       "      <th></th>\n",
       "      <th>product_id</th>\n",
       "      <th>product_name</th>\n",
       "      <th>category</th>\n",
       "      <th>discounted_price</th>\n",
       "      <th>actual_price</th>\n",
       "      <th>discount_percentage</th>\n",
       "      <th>rating</th>\n",
       "      <th>rating_count</th>\n",
       "      <th>about_product</th>\n",
       "      <th>user_id</th>\n",
       "      <th>user_name</th>\n",
       "      <th>review_id</th>\n",
       "      <th>review_title</th>\n",
       "      <th>review_content</th>\n",
       "      <th>img_link</th>\n",
       "      <th>product_link</th>\n",
       "    </tr>\n",
       "  </thead>\n",
       "  <tbody>\n",
       "    <tr>\n",
       "      <th>count</th>\n",
       "      <td>1465</td>\n",
       "      <td>1465</td>\n",
       "      <td>1465</td>\n",
       "      <td>1465</td>\n",
       "      <td>1465</td>\n",
       "      <td>1465</td>\n",
       "      <td>1465</td>\n",
       "      <td>1463</td>\n",
       "      <td>1465</td>\n",
       "      <td>1465</td>\n",
       "      <td>1465</td>\n",
       "      <td>1465</td>\n",
       "      <td>1465</td>\n",
       "      <td>1465</td>\n",
       "      <td>1465</td>\n",
       "      <td>1465</td>\n",
       "    </tr>\n",
       "    <tr>\n",
       "      <th>unique</th>\n",
       "      <td>1351</td>\n",
       "      <td>1337</td>\n",
       "      <td>211</td>\n",
       "      <td>550</td>\n",
       "      <td>449</td>\n",
       "      <td>92</td>\n",
       "      <td>28</td>\n",
       "      <td>1143</td>\n",
       "      <td>1293</td>\n",
       "      <td>1194</td>\n",
       "      <td>1194</td>\n",
       "      <td>1194</td>\n",
       "      <td>1194</td>\n",
       "      <td>1212</td>\n",
       "      <td>1412</td>\n",
       "      <td>1465</td>\n",
       "    </tr>\n",
       "    <tr>\n",
       "      <th>top</th>\n",
       "      <td>B07JW9H4J1</td>\n",
       "      <td>Fire-Boltt Ninja Call Pro Plus 1.83\" Smart Wat...</td>\n",
       "      <td>Computers&amp;Accessories|Accessories&amp;Peripherals|...</td>\n",
       "      <td>₹199</td>\n",
       "      <td>₹999</td>\n",
       "      <td>50%</td>\n",
       "      <td>4.1</td>\n",
       "      <td>9,378</td>\n",
       "      <td>[CHARGE &amp; SYNC FUNCTION]- This cable comes wit...</td>\n",
       "      <td>AHIKJUDTVJ4T6DV6IUGFYZ5LXMPA,AE55KTFVNXYFD5FPY...</td>\n",
       "      <td>$@|\\|TO$|-|,Sethu madhav,Akash Thakur,Burger P...</td>\n",
       "      <td>R3F4T5TRYPTMIG,R3DQIEC603E7AY,R1O4Z15FD40PV5,R...</td>\n",
       "      <td>Worked on iPhone 7 and didn’t work on XR,Good ...</td>\n",
       "      <td>I am not big on camera usage, personally. I wa...</td>\n",
       "      <td>https://m.media-amazon.com/images/I/413sCRKobN...</td>\n",
       "      <td>https://www.amazon.in/Wayona-Braided-WN3LG1-Sy...</td>\n",
       "    </tr>\n",
       "    <tr>\n",
       "      <th>freq</th>\n",
       "      <td>3</td>\n",
       "      <td>5</td>\n",
       "      <td>233</td>\n",
       "      <td>53</td>\n",
       "      <td>120</td>\n",
       "      <td>56</td>\n",
       "      <td>244</td>\n",
       "      <td>9</td>\n",
       "      <td>6</td>\n",
       "      <td>10</td>\n",
       "      <td>10</td>\n",
       "      <td>10</td>\n",
       "      <td>10</td>\n",
       "      <td>8</td>\n",
       "      <td>3</td>\n",
       "      <td>1</td>\n",
       "    </tr>\n",
       "  </tbody>\n",
       "</table>\n",
       "</div>"
      ],
      "text/plain": [
       "        product_id                                       product_name  \\\n",
       "count         1465                                               1465   \n",
       "unique        1351                                               1337   \n",
       "top     B07JW9H4J1  Fire-Boltt Ninja Call Pro Plus 1.83\" Smart Wat...   \n",
       "freq             3                                                  5   \n",
       "\n",
       "                                                 category discounted_price  \\\n",
       "count                                                1465             1465   \n",
       "unique                                                211              550   \n",
       "top     Computers&Accessories|Accessories&Peripherals|...             ₹199   \n",
       "freq                                                  233               53   \n",
       "\n",
       "       actual_price discount_percentage rating rating_count  \\\n",
       "count          1465                1465   1465         1463   \n",
       "unique          449                  92     28         1143   \n",
       "top            ₹999                 50%    4.1        9,378   \n",
       "freq            120                  56    244            9   \n",
       "\n",
       "                                            about_product  \\\n",
       "count                                                1465   \n",
       "unique                                               1293   \n",
       "top     [CHARGE & SYNC FUNCTION]- This cable comes wit...   \n",
       "freq                                                    6   \n",
       "\n",
       "                                                  user_id  \\\n",
       "count                                                1465   \n",
       "unique                                               1194   \n",
       "top     AHIKJUDTVJ4T6DV6IUGFYZ5LXMPA,AE55KTFVNXYFD5FPY...   \n",
       "freq                                                   10   \n",
       "\n",
       "                                                user_name  \\\n",
       "count                                                1465   \n",
       "unique                                               1194   \n",
       "top     $@|\\|TO$|-|,Sethu madhav,Akash Thakur,Burger P...   \n",
       "freq                                                   10   \n",
       "\n",
       "                                                review_id  \\\n",
       "count                                                1465   \n",
       "unique                                               1194   \n",
       "top     R3F4T5TRYPTMIG,R3DQIEC603E7AY,R1O4Z15FD40PV5,R...   \n",
       "freq                                                   10   \n",
       "\n",
       "                                             review_title  \\\n",
       "count                                                1465   \n",
       "unique                                               1194   \n",
       "top     Worked on iPhone 7 and didn’t work on XR,Good ...   \n",
       "freq                                                   10   \n",
       "\n",
       "                                           review_content  \\\n",
       "count                                                1465   \n",
       "unique                                               1212   \n",
       "top     I am not big on camera usage, personally. I wa...   \n",
       "freq                                                    8   \n",
       "\n",
       "                                                 img_link  \\\n",
       "count                                                1465   \n",
       "unique                                               1412   \n",
       "top     https://m.media-amazon.com/images/I/413sCRKobN...   \n",
       "freq                                                    3   \n",
       "\n",
       "                                             product_link  \n",
       "count                                                1465  \n",
       "unique                                               1465  \n",
       "top     https://www.amazon.in/Wayona-Braided-WN3LG1-Sy...  \n",
       "freq                                                    1  "
      ]
     },
     "execution_count": 53,
     "metadata": {},
     "output_type": "execute_result"
    }
   ],
   "source": [
    "data.describe()"
   ]
  },
  {
   "cell_type": "code",
   "execution_count": 54,
   "id": "c278585e",
   "metadata": {},
   "outputs": [],
   "source": [
    "data = data.drop_duplicates()"
   ]
  },
  {
   "cell_type": "markdown",
   "id": "f726323b",
   "metadata": {},
   "source": [
    "# Data Preprocessing"
   ]
  },
  {
   "cell_type": "code",
   "execution_count": 55,
   "id": "e6df6650",
   "metadata": {},
   "outputs": [],
   "source": [
    "data.dropna(inplace=True)"
   ]
  },
  {
   "cell_type": "code",
   "execution_count": 56,
   "id": "9fe06f58",
   "metadata": {},
   "outputs": [
    {
     "name": "stdout",
     "output_type": "stream",
     "text": [
      "<class 'pandas.core.frame.DataFrame'>\n",
      "Index: 1463 entries, 0 to 1464\n",
      "Data columns (total 16 columns):\n",
      " #   Column               Non-Null Count  Dtype \n",
      "---  ------               --------------  ----- \n",
      " 0   product_id           1463 non-null   object\n",
      " 1   product_name         1463 non-null   object\n",
      " 2   category             1463 non-null   object\n",
      " 3   discounted_price     1463 non-null   object\n",
      " 4   actual_price         1463 non-null   object\n",
      " 5   discount_percentage  1463 non-null   object\n",
      " 6   rating               1463 non-null   object\n",
      " 7   rating_count         1463 non-null   object\n",
      " 8   about_product        1463 non-null   object\n",
      " 9   user_id              1463 non-null   object\n",
      " 10  user_name            1463 non-null   object\n",
      " 11  review_id            1463 non-null   object\n",
      " 12  review_title         1463 non-null   object\n",
      " 13  review_content       1463 non-null   object\n",
      " 14  img_link             1463 non-null   object\n",
      " 15  product_link         1463 non-null   object\n",
      "dtypes: object(16)\n",
      "memory usage: 194.3+ KB\n"
     ]
    }
   ],
   "source": [
    "data.info()"
   ]
  },
  {
   "cell_type": "code",
   "execution_count": 57,
   "id": "3fb20026",
   "metadata": {},
   "outputs": [
    {
     "data": {
      "text/plain": [
       "Index(['product_id', 'product_name', 'category', 'discounted_price',\n",
       "       'actual_price', 'discount_percentage', 'rating', 'rating_count',\n",
       "       'about_product', 'user_id', 'user_name', 'review_id', 'review_title',\n",
       "       'review_content', 'img_link', 'product_link'],\n",
       "      dtype='object')"
      ]
     },
     "execution_count": 57,
     "metadata": {},
     "output_type": "execute_result"
    }
   ],
   "source": [
    "data.columns"
   ]
  },
  {
   "cell_type": "code",
   "execution_count": 58,
   "id": "514a60c8",
   "metadata": {},
   "outputs": [],
   "source": [
    "data['discounted_price'] = data['discounted_price'].astype(str).str.replace('₹','').str.replace(',','').astype(float)"
   ]
  },
  {
   "cell_type": "code",
   "execution_count": 59,
   "id": "9599f907",
   "metadata": {},
   "outputs": [],
   "source": [
    "data['actual_price'] = data['actual_price'].astype(str).str.replace('₹', '').str.replace(',', '').astype(float)"
   ]
  },
  {
   "cell_type": "code",
   "execution_count": 60,
   "id": "13a6ed93",
   "metadata": {},
   "outputs": [],
   "source": [
    "data['discount_percentage'] = data['discount_percentage'].astype(str).str.replace('%', '').astype(float)"
   ]
  },
  {
   "cell_type": "code",
   "execution_count": 61,
   "id": "4cbf3b67",
   "metadata": {},
   "outputs": [
    {
     "data": {
      "application/javascript": [
       "\n",
       "        if (window._pyforest_update_imports_cell) { window._pyforest_update_imports_cell('import pandas as pd\\nimport matplotlib.pyplot as plt'); }\n",
       "    "
      ],
      "text/plain": [
       "<IPython.core.display.Javascript object>"
      ]
     },
     "metadata": {},
     "output_type": "display_data"
    }
   ],
   "source": [
    "data['rating'] = pd.to_numeric(data['rating'].astype(str).str.replace('|', ''), errors='coerce')"
   ]
  },
  {
   "cell_type": "code",
   "execution_count": 62,
   "id": "643d9cf4",
   "metadata": {},
   "outputs": [],
   "source": [
    "data['rating_count'] = data['rating_count'].astype(str).str.replace(',', '').astype(int)"
   ]
  },
  {
   "cell_type": "markdown",
   "id": "35d0a6cc",
   "metadata": {},
   "source": [
    "## Word2Vec"
   ]
  },
  {
   "cell_type": "code",
   "execution_count": 63,
   "id": "59c86257",
   "metadata": {},
   "outputs": [],
   "source": [
    "import re\n",
    "import nltk\n",
    "from nltk.corpus import stopwords\n",
    "from nltk.stem import WordNetLemmatizer"
   ]
  },
  {
   "cell_type": "code",
   "execution_count": 64,
   "id": "f22cf1eb",
   "metadata": {},
   "outputs": [],
   "source": [
    "w=WordNetLemmatizer()"
   ]
  },
  {
   "cell_type": "code",
   "execution_count": 65,
   "id": "d6e09311",
   "metadata": {},
   "outputs": [],
   "source": [
    "def message_clean(text):\n",
    "    review=text.lower()\n",
    "    review=re.sub(\"[^a-zA-Z]\",' ',review)\n",
    "    review=review.split()\n",
    "    review=[w.lemmatize(word) for word in review if not word in set(stopwords.words(\"English\"))]\n",
    "    return(\" \".join(review))"
   ]
  },
  {
   "cell_type": "code",
   "execution_count": 66,
   "id": "d10f75f8",
   "metadata": {},
   "outputs": [],
   "source": [
    "data['product_name'] = data['product_name'].apply(message_clean)\n",
    "data['about_product'] = data['about_product'].apply(message_clean)\n",
    "data['review_content'] = data['review_content'].apply(message_clean)\n",
    "data['category'] = data['category'].apply(message_clean)"
   ]
  },
  {
   "cell_type": "code",
   "execution_count": 67,
   "id": "3672f380",
   "metadata": {},
   "outputs": [
    {
     "data": {
      "text/plain": [
       "Index(['product_id', 'product_name', 'category', 'discounted_price',\n",
       "       'actual_price', 'discount_percentage', 'rating', 'rating_count',\n",
       "       'about_product', 'user_id', 'user_name', 'review_id', 'review_title',\n",
       "       'review_content', 'img_link', 'product_link'],\n",
       "      dtype='object')"
      ]
     },
     "execution_count": 67,
     "metadata": {},
     "output_type": "execute_result"
    }
   ],
   "source": [
    "data.columns"
   ]
  },
  {
   "cell_type": "code",
   "execution_count": 68,
   "id": "6e65738f",
   "metadata": {},
   "outputs": [],
   "source": [
    "data.drop(['img_link', 'product_link'],axis=1,inplace=True)"
   ]
  },
  {
   "cell_type": "code",
   "execution_count": 69,
   "id": "220897a8",
   "metadata": {},
   "outputs": [],
   "source": [
    "data.drop(['user_id'],axis=1,inplace=True)"
   ]
  },
  {
   "cell_type": "code",
   "execution_count": 70,
   "id": "83af69ca",
   "metadata": {},
   "outputs": [],
   "source": [
    "data.drop(['review_id'],axis=1,inplace=True)"
   ]
  },
  {
   "cell_type": "code",
   "execution_count": 71,
   "id": "ca2a4123",
   "metadata": {},
   "outputs": [],
   "source": [
    "data.drop(['product_id'],axis=1,inplace=True)"
   ]
  },
  {
   "cell_type": "markdown",
   "id": "27029099",
   "metadata": {},
   "source": [
    "### Top 20 Goods"
   ]
  },
  {
   "cell_type": "code",
   "execution_count": 72,
   "id": "39e97385",
   "metadata": {},
   "outputs": [],
   "source": [
    "top = data.sort_values(by='rating_count', ascending=False).head(20)"
   ]
  },
  {
   "cell_type": "code",
   "execution_count": 73,
   "id": "c1feff58",
   "metadata": {},
   "outputs": [],
   "source": [
    "top = top[['product_name', 'rating', 'rating_count']]"
   ]
  },
  {
   "cell_type": "code",
   "execution_count": 74,
   "id": "1c633d3b",
   "metadata": {},
   "outputs": [],
   "source": [
    "top.reset_index(drop=True, inplace=True)"
   ]
  },
  {
   "cell_type": "code",
   "execution_count": 75,
   "id": "cab8d12f",
   "metadata": {},
   "outputs": [
    {
     "data": {
      "text/html": [
       "<div>\n",
       "<style scoped>\n",
       "    .dataframe tbody tr th:only-of-type {\n",
       "        vertical-align: middle;\n",
       "    }\n",
       "\n",
       "    .dataframe tbody tr th {\n",
       "        vertical-align: top;\n",
       "    }\n",
       "\n",
       "    .dataframe thead th {\n",
       "        text-align: right;\n",
       "    }\n",
       "</style>\n",
       "<table border=\"1\" class=\"dataframe\">\n",
       "  <thead>\n",
       "    <tr style=\"text-align: right;\">\n",
       "      <th></th>\n",
       "      <th>product_name</th>\n",
       "      <th>rating</th>\n",
       "      <th>rating_count</th>\n",
       "    </tr>\n",
       "  </thead>\n",
       "  <tbody>\n",
       "    <tr>\n",
       "      <th>0</th>\n",
       "      <td>amazonbasics flexible premium hdmi cable black...</td>\n",
       "      <td>4.4</td>\n",
       "      <td>426973</td>\n",
       "    </tr>\n",
       "    <tr>\n",
       "      <th>1</th>\n",
       "      <td>amazon basic high speed hdmi cable foot pack b...</td>\n",
       "      <td>4.4</td>\n",
       "      <td>426973</td>\n",
       "    </tr>\n",
       "    <tr>\n",
       "      <th>2</th>\n",
       "      <td>amazon basic high speed hdmi cable foot suppor...</td>\n",
       "      <td>4.4</td>\n",
       "      <td>426973</td>\n",
       "    </tr>\n",
       "    <tr>\n",
       "      <th>3</th>\n",
       "      <td>amazonbasics flexible premium hdmi cable black...</td>\n",
       "      <td>4.4</td>\n",
       "      <td>426972</td>\n",
       "    </tr>\n",
       "    <tr>\n",
       "      <th>4</th>\n",
       "      <td>boat bassheads ear wired earphone mic furious red</td>\n",
       "      <td>4.1</td>\n",
       "      <td>363713</td>\n",
       "    </tr>\n",
       "  </tbody>\n",
       "</table>\n",
       "</div>"
      ],
      "text/plain": [
       "                                        product_name  rating  rating_count\n",
       "0  amazonbasics flexible premium hdmi cable black...     4.4        426973\n",
       "1  amazon basic high speed hdmi cable foot pack b...     4.4        426973\n",
       "2  amazon basic high speed hdmi cable foot suppor...     4.4        426973\n",
       "3  amazonbasics flexible premium hdmi cable black...     4.4        426972\n",
       "4  boat bassheads ear wired earphone mic furious red     4.1        363713"
      ]
     },
     "execution_count": 75,
     "metadata": {},
     "output_type": "execute_result"
    }
   ],
   "source": [
    "top.head()"
   ]
  },
  {
   "cell_type": "code",
   "execution_count": 76,
   "id": "91fcf800",
   "metadata": {},
   "outputs": [],
   "source": [
    "top_sales = top['rating_count'].sum()"
   ]
  },
  {
   "cell_type": "code",
   "execution_count": 77,
   "id": "b0c4d9a0",
   "metadata": {},
   "outputs": [],
   "source": [
    "all_sales = data['rating_count'].sum()"
   ]
  },
  {
   "cell_type": "code",
   "execution_count": 78,
   "id": "4adfb17a",
   "metadata": {},
   "outputs": [],
   "source": [
    "below_top_10_sales = all_sales - top_sales"
   ]
  },
  {
   "cell_type": "code",
   "execution_count": 79,
   "id": "eaac895f",
   "metadata": {},
   "outputs": [],
   "source": [
    "pie_data = [top_sales,below_top_10_sales]\n",
    "labeles = ['Top 20 Best selling','Other sales']"
   ]
  },
  {
   "cell_type": "code",
   "execution_count": 80,
   "id": "e5c7758d",
   "metadata": {},
   "outputs": [
    {
     "data": {
      "application/javascript": [
       "\n",
       "        if (window._pyforest_update_imports_cell) { window._pyforest_update_imports_cell('import pandas as pd\\nimport matplotlib.pyplot as plt'); }\n",
       "    "
      ],
      "text/plain": [
       "<IPython.core.display.Javascript object>"
      ]
     },
     "metadata": {},
     "output_type": "display_data"
    },
    {
     "data": {
      "application/javascript": [
       "\n",
       "        if (window._pyforest_update_imports_cell) { window._pyforest_update_imports_cell('import pandas as pd\\nimport matplotlib.pyplot as plt'); }\n",
       "    "
      ],
      "text/plain": [
       "<IPython.core.display.Javascript object>"
      ]
     },
     "metadata": {},
     "output_type": "display_data"
    },
    {
     "data": {
      "application/javascript": [
       "\n",
       "        if (window._pyforest_update_imports_cell) { window._pyforest_update_imports_cell('import pandas as pd\\nimport matplotlib.pyplot as plt'); }\n",
       "    "
      ],
      "text/plain": [
       "<IPython.core.display.Javascript object>"
      ]
     },
     "metadata": {},
     "output_type": "display_data"
    },
    {
     "data": {
      "application/javascript": [
       "\n",
       "        if (window._pyforest_update_imports_cell) { window._pyforest_update_imports_cell('import pandas as pd\\nimport matplotlib.pyplot as plt'); }\n",
       "    "
      ],
      "text/plain": [
       "<IPython.core.display.Javascript object>"
      ]
     },
     "metadata": {},
     "output_type": "display_data"
    },
    {
     "data": {
      "image/png": "[encoded data removed]",
      "text/plain": [
       "<Figure size 400x400 with 1 Axes>"
      ]
     },
     "metadata": {},
     "output_type": "display_data"
    }
   ],
   "source": [
    "plt.figure(figsize=(4,4))\n",
    "plt.pie(pie_data,labels=labeles,autopct='%1.1f%%')\n",
    "plt.title(\"Impact of top rated sales\")\n",
    "plt.show()"
   ]
  },
  {
   "cell_type": "code",
   "execution_count": 81,
   "id": "6e22522f",
   "metadata": {},
   "outputs": [],
   "source": [
    "data.drop(columns=['discounted_price', 'actual_price', 'discount_percentage', 'review_title','user_name'],axis=1,inplace=True)"
   ]
  },
  {
   "cell_type": "code",
   "execution_count": 82,
   "id": "bd23efca",
   "metadata": {},
   "outputs": [
    {
     "data": {
      "text/html": [
       "<div>\n",
       "<style scoped>\n",
       "    .dataframe tbody tr th:only-of-type {\n",
       "        vertical-align: middle;\n",
       "    }\n",
       "\n",
       "    .dataframe tbody tr th {\n",
       "        vertical-align: top;\n",
       "    }\n",
       "\n",
       "    .dataframe thead th {\n",
       "        text-align: right;\n",
       "    }\n",
       "</style>\n",
       "<table border=\"1\" class=\"dataframe\">\n",
       "  <thead>\n",
       "    <tr style=\"text-align: right;\">\n",
       "      <th></th>\n",
       "      <th>product_name</th>\n",
       "      <th>category</th>\n",
       "      <th>rating</th>\n",
       "      <th>rating_count</th>\n",
       "      <th>about_product</th>\n",
       "      <th>review_content</th>\n",
       "    </tr>\n",
       "  </thead>\n",
       "  <tbody>\n",
       "    <tr>\n",
       "      <th>0</th>\n",
       "      <td>wayona nylon braided usb lightning fast chargi...</td>\n",
       "      <td>computer accessory accessory peripheral cable ...</td>\n",
       "      <td>4.2</td>\n",
       "      <td>24269</td>\n",
       "      <td>high compatibility compatible iphone x xsmax x...</td>\n",
       "      <td>look durable charging fine toono complains cha...</td>\n",
       "    </tr>\n",
       "    <tr>\n",
       "      <th>1</th>\n",
       "      <td>ambrane unbreakable w fast charging braided ty...</td>\n",
       "      <td>computer accessory accessory peripheral cable ...</td>\n",
       "      <td>4.0</td>\n",
       "      <td>43994</td>\n",
       "      <td>compatible type c enabled device android smart...</td>\n",
       "      <td>ordered cable connect phone android auto car c...</td>\n",
       "    </tr>\n",
       "    <tr>\n",
       "      <th>2</th>\n",
       "      <td>sounce fast phone charging cable data sync usb...</td>\n",
       "      <td>computer accessory accessory peripheral cable ...</td>\n",
       "      <td>3.9</td>\n",
       "      <td>7928</td>\n",
       "      <td>fast charger data sync built safety proctectio...</td>\n",
       "      <td>quite durable sturdy http medium amazon com im...</td>\n",
       "    </tr>\n",
       "    <tr>\n",
       "      <th>3</th>\n",
       "      <td>boat deuce usb type c micro usb stress resista...</td>\n",
       "      <td>computer accessory accessory peripheral cable ...</td>\n",
       "      <td>4.2</td>\n",
       "      <td>94363</td>\n",
       "      <td>boat deuce usb cable compatible smartphones ta...</td>\n",
       "      <td>good product long wire charge good nice bought...</td>\n",
       "    </tr>\n",
       "    <tr>\n",
       "      <th>4</th>\n",
       "      <td>portronics konnect l fast charging pin usb cab...</td>\n",
       "      <td>computer accessory accessory peripheral cable ...</td>\n",
       "      <td>4.2</td>\n",
       "      <td>16905</td>\n",
       "      <td>charge sync function cable come charging data ...</td>\n",
       "      <td>bought instead original apple work r fast appl...</td>\n",
       "    </tr>\n",
       "  </tbody>\n",
       "</table>\n",
       "</div>"
      ],
      "text/plain": [
       "                                        product_name  \\\n",
       "0  wayona nylon braided usb lightning fast chargi...   \n",
       "1  ambrane unbreakable w fast charging braided ty...   \n",
       "2  sounce fast phone charging cable data sync usb...   \n",
       "3  boat deuce usb type c micro usb stress resista...   \n",
       "4  portronics konnect l fast charging pin usb cab...   \n",
       "\n",
       "                                            category  rating  rating_count  \\\n",
       "0  computer accessory accessory peripheral cable ...     4.2         24269   \n",
       "1  computer accessory accessory peripheral cable ...     4.0         43994   \n",
       "2  computer accessory accessory peripheral cable ...     3.9          7928   \n",
       "3  computer accessory accessory peripheral cable ...     4.2         94363   \n",
       "4  computer accessory accessory peripheral cable ...     4.2         16905   \n",
       "\n",
       "                                       about_product  \\\n",
       "0  high compatibility compatible iphone x xsmax x...   \n",
       "1  compatible type c enabled device android smart...   \n",
       "2  fast charger data sync built safety proctectio...   \n",
       "3  boat deuce usb cable compatible smartphones ta...   \n",
       "4  charge sync function cable come charging data ...   \n",
       "\n",
       "                                      review_content  \n",
       "0  look durable charging fine toono complains cha...  \n",
       "1  ordered cable connect phone android auto car c...  \n",
       "2  quite durable sturdy http medium amazon com im...  \n",
       "3  good product long wire charge good nice bought...  \n",
       "4  bought instead original apple work r fast appl...  "
      ]
     },
     "execution_count": 82,
     "metadata": {},
     "output_type": "execute_result"
    }
   ],
   "source": [
    "data.head()"
   ]
  },
  {
   "cell_type": "markdown",
   "id": "37108720",
   "metadata": {},
   "source": [
    "# Combine Columns"
   ]
  },
  {
   "cell_type": "code",
   "execution_count": 126,
   "id": "4d701865",
   "metadata": {},
   "outputs": [],
   "source": [
    "data['combined_text'] = data['product_name'] +' '+data['category']+' '+data['about_product']+' '+data['review_content']"
   ]
  },
  {
   "cell_type": "code",
   "execution_count": 127,
   "id": "510bb587",
   "metadata": {},
   "outputs": [],
   "source": [
    "data['combined_text'] = data['combined_text'].fillna('')"
   ]
  },
  {
   "cell_type": "code",
   "execution_count": 128,
   "id": "faed67b6",
   "metadata": {},
   "outputs": [
    {
     "data": {
      "text/html": [
       "<div>\n",
       "<style scoped>\n",
       "    .dataframe tbody tr th:only-of-type {\n",
       "        vertical-align: middle;\n",
       "    }\n",
       "\n",
       "    .dataframe tbody tr th {\n",
       "        vertical-align: top;\n",
       "    }\n",
       "\n",
       "    .dataframe thead th {\n",
       "        text-align: right;\n",
       "    }\n",
       "</style>\n",
       "<table border=\"1\" class=\"dataframe\">\n",
       "  <thead>\n",
       "    <tr style=\"text-align: right;\">\n",
       "      <th></th>\n",
       "      <th>product_name</th>\n",
       "      <th>category</th>\n",
       "      <th>rating</th>\n",
       "      <th>rating_count</th>\n",
       "      <th>about_product</th>\n",
       "      <th>review_content</th>\n",
       "      <th>combined_text</th>\n",
       "    </tr>\n",
       "  </thead>\n",
       "  <tbody>\n",
       "    <tr>\n",
       "      <th>0</th>\n",
       "      <td>wayona nylon braided usb lightning fast chargi...</td>\n",
       "      <td>computer accessory accessory peripheral cable ...</td>\n",
       "      <td>4.2</td>\n",
       "      <td>24269</td>\n",
       "      <td>high compatibility compatible iphone x xsmax x...</td>\n",
       "      <td>look durable charging fine toono complains cha...</td>\n",
       "      <td>wayona nylon braided usb lightning fast chargi...</td>\n",
       "    </tr>\n",
       "    <tr>\n",
       "      <th>1</th>\n",
       "      <td>ambrane unbreakable w fast charging braided ty...</td>\n",
       "      <td>computer accessory accessory peripheral cable ...</td>\n",
       "      <td>4.0</td>\n",
       "      <td>43994</td>\n",
       "      <td>compatible type c enabled device android smart...</td>\n",
       "      <td>ordered cable connect phone android auto car c...</td>\n",
       "      <td>ambrane unbreakable w fast charging braided ty...</td>\n",
       "    </tr>\n",
       "    <tr>\n",
       "      <th>2</th>\n",
       "      <td>sounce fast phone charging cable data sync usb...</td>\n",
       "      <td>computer accessory accessory peripheral cable ...</td>\n",
       "      <td>3.9</td>\n",
       "      <td>7928</td>\n",
       "      <td>fast charger data sync built safety proctectio...</td>\n",
       "      <td>quite durable sturdy http medium amazon com im...</td>\n",
       "      <td>sounce fast phone charging cable data sync usb...</td>\n",
       "    </tr>\n",
       "    <tr>\n",
       "      <th>3</th>\n",
       "      <td>boat deuce usb type c micro usb stress resista...</td>\n",
       "      <td>computer accessory accessory peripheral cable ...</td>\n",
       "      <td>4.2</td>\n",
       "      <td>94363</td>\n",
       "      <td>boat deuce usb cable compatible smartphones ta...</td>\n",
       "      <td>good product long wire charge good nice bought...</td>\n",
       "      <td>boat deuce usb type c micro usb stress resista...</td>\n",
       "    </tr>\n",
       "    <tr>\n",
       "      <th>4</th>\n",
       "      <td>portronics konnect l fast charging pin usb cab...</td>\n",
       "      <td>computer accessory accessory peripheral cable ...</td>\n",
       "      <td>4.2</td>\n",
       "      <td>16905</td>\n",
       "      <td>charge sync function cable come charging data ...</td>\n",
       "      <td>bought instead original apple work r fast appl...</td>\n",
       "      <td>portronics konnect l fast charging pin usb cab...</td>\n",
       "    </tr>\n",
       "  </tbody>\n",
       "</table>\n",
       "</div>"
      ],
      "text/plain": [
       "                                        product_name  \\\n",
       "0  wayona nylon braided usb lightning fast chargi...   \n",
       "1  ambrane unbreakable w fast charging braided ty...   \n",
       "2  sounce fast phone charging cable data sync usb...   \n",
       "3  boat deuce usb type c micro usb stress resista...   \n",
       "4  portronics konnect l fast charging pin usb cab...   \n",
       "\n",
       "                                            category  rating  rating_count  \\\n",
       "0  computer accessory accessory peripheral cable ...     4.2         24269   \n",
       "1  computer accessory accessory peripheral cable ...     4.0         43994   \n",
       "2  computer accessory accessory peripheral cable ...     3.9          7928   \n",
       "3  computer accessory accessory peripheral cable ...     4.2         94363   \n",
       "4  computer accessory accessory peripheral cable ...     4.2         16905   \n",
       "\n",
       "                                       about_product  \\\n",
       "0  high compatibility compatible iphone x xsmax x...   \n",
       "1  compatible type c enabled device android smart...   \n",
       "2  fast charger data sync built safety proctectio...   \n",
       "3  boat deuce usb cable compatible smartphones ta...   \n",
       "4  charge sync function cable come charging data ...   \n",
       "\n",
       "                                      review_content  \\\n",
       "0  look durable charging fine toono complains cha...   \n",
       "1  ordered cable connect phone android auto car c...   \n",
       "2  quite durable sturdy http medium amazon com im...   \n",
       "3  good product long wire charge good nice bought...   \n",
       "4  bought instead original apple work r fast appl...   \n",
       "\n",
       "                                       combined_text  \n",
       "0  wayona nylon braided usb lightning fast chargi...  \n",
       "1  ambrane unbreakable w fast charging braided ty...  \n",
       "2  sounce fast phone charging cable data sync usb...  \n",
       "3  boat deuce usb type c micro usb stress resista...  \n",
       "4  portronics konnect l fast charging pin usb cab...  "
      ]
     },
     "execution_count": 128,
     "metadata": {},
     "output_type": "execute_result"
    }
   ],
   "source": [
    "data.head()"
   ]
  },
  {
   "cell_type": "code",
   "execution_count": 129,
   "id": "792d1a89",
   "metadata": {},
   "outputs": [],
   "source": [
    "data['rating']=data['rating'].fillna(method='ffill')"
   ]
  },
  {
   "cell_type": "code",
   "execution_count": 130,
   "id": "ab4c6866",
   "metadata": {},
   "outputs": [],
   "source": [
    "from sklearn.feature_extraction.text import TfidfVectorizer"
   ]
  },
  {
   "cell_type": "code",
   "execution_count": 131,
   "id": "31820f2e",
   "metadata": {},
   "outputs": [],
   "source": [
    "from sklearn.feature_extraction.text import TfidfVectorizer\n",
    "cv = TfidfVectorizer(max_features=5000)"
   ]
  },
  {
   "cell_type": "code",
   "execution_count": 132,
   "id": "e4c55287",
   "metadata": {},
   "outputs": [],
   "source": [
    "X = cv.fit_transform(data['combined_text']).toarray()"
   ]
  },
  {
   "cell_type": "code",
   "execution_count": 133,
   "id": "0d147a64",
   "metadata": {},
   "outputs": [],
   "source": [
    "y=data['rating']"
   ]
  },
  {
   "cell_type": "code",
   "execution_count": 134,
   "id": "fceb25ee",
   "metadata": {},
   "outputs": [],
   "source": [
    "from sklearn.model_selection import train_test_split\n",
    "X_train, X_test, y_train, y_test = train_test_split(X, y, test_size = 0.2)"
   ]
  },
  {
   "cell_type": "code",
   "execution_count": 135,
   "id": "1396afea",
   "metadata": {},
   "outputs": [],
   "source": [
    "from sklearn.svm import SVR\n",
    "from sklearn.ensemble import RandomForestRegressor\n",
    "from sklearn.ensemble import GradientBoostingRegressor\n",
    "model = SVR().fit(X_train, y_train)"
   ]
  },
  {
   "cell_type": "code",
   "execution_count": 136,
   "id": "85cf937d",
   "metadata": {},
   "outputs": [],
   "source": [
    "y_pred=model.predict(X_test)"
   ]
  },
  {
   "cell_type": "code",
   "execution_count": 137,
   "id": "550ac7f1",
   "metadata": {},
   "outputs": [],
   "source": [
    "from sklearn.metrics import r2_score"
   ]
  },
  {
   "cell_type": "code",
   "execution_count": 138,
   "id": "06795d0c",
   "metadata": {},
   "outputs": [
    {
     "data": {
      "text/plain": [
       "0.33103384022591664"
      ]
     },
     "execution_count": 138,
     "metadata": {},
     "output_type": "execute_result"
    }
   ],
   "source": [
    "r2_score(y_test,y_pred)"
   ]
  },
  {
   "cell_type": "code",
   "execution_count": null,
   "id": "4064d952",
   "metadata": {},
   "outputs": [],
   "source": []
  },
  {
   "cell_type": "code",
   "execution_count": null,
   "id": "00dcebf2",
   "metadata": {},
   "outputs": [],
   "source": []
  },
  {
   "cell_type": "code",
   "execution_count": null,
   "id": "4842bbd0",
   "metadata": {},
   "outputs": [],
   "source": []
  },
  {
   "cell_type": "code",
   "execution_count": null,
   "id": "47780398",
   "metadata": {},
   "outputs": [],
   "source": []
  }
 ],
 "metadata": {
  "kernelspec": {
   "display_name": "Python 3 (ipykernel)",
   "language": "python",
   "name": "python3"
  },
  "language_info": {
   "codemirror_mode": {
    "name": "ipython",
    "version": 3
   },
   "file_extension": ".py",
   "mimetype": "text/x-python",
   "name": "python",
   "nbconvert_exporter": "python",
   "pygments_lexer": "ipython3",
   "version": "3.11.5"
  }
 },
 "nbformat": 4,
 "nbformat_minor": 5
}
